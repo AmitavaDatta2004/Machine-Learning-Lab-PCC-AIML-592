{
 "cells": [
  {
   "cell_type": "code",
   "execution_count": 1,
   "id": "84068e95-563a-4fb9-b482-bbbee0cb952d",
   "metadata": {},
   "outputs": [],
   "source": [
    "import numpy as np\n",
    "import matplotlib.pyplot as plt\n",
    "import sklearn"
   ]
  },
  {
   "cell_type": "code",
   "execution_count": 2,
   "id": "3602cca7-2218-4b13-911c-134694f9da0f",
   "metadata": {},
   "outputs": [
    {
     "name": "stdout",
     "output_type": "stream",
     "text": [
      "[0.         0.01010101 0.02020202 0.03030303 0.04040404 0.05050505\n",
      " 0.06060606 0.07070707 0.08080808 0.09090909 0.1010101  0.11111111\n",
      " 0.12121212 0.13131313 0.14141414 0.15151515 0.16161616 0.17171717\n",
      " 0.18181818 0.19191919 0.2020202  0.21212121 0.22222222 0.23232323\n",
      " 0.24242424 0.25252525 0.26262626 0.27272727 0.28282828 0.29292929\n",
      " 0.3030303  0.31313131 0.32323232 0.33333333 0.34343434 0.35353535\n",
      " 0.36363636 0.37373737 0.38383838 0.39393939 0.4040404  0.41414141\n",
      " 0.42424242 0.43434343 0.44444444 0.45454545 0.46464646 0.47474747\n",
      " 0.48484848 0.49494949 0.50505051 0.51515152 0.52525253 0.53535354\n",
      " 0.54545455 0.55555556 0.56565657 0.57575758 0.58585859 0.5959596\n",
      " 0.60606061 0.61616162 0.62626263 0.63636364 0.64646465 0.65656566\n",
      " 0.66666667 0.67676768 0.68686869 0.6969697  0.70707071 0.71717172\n",
      " 0.72727273 0.73737374 0.74747475 0.75757576 0.76767677 0.77777778\n",
      " 0.78787879 0.7979798  0.80808081 0.81818182 0.82828283 0.83838384\n",
      " 0.84848485 0.85858586 0.86868687 0.87878788 0.88888889 0.8989899\n",
      " 0.90909091 0.91919192 0.92929293 0.93939394 0.94949495 0.95959596\n",
      " 0.96969697 0.97979798 0.98989899 1.        ]\n",
      "<class 'numpy.ndarray'>\n",
      "(100,)\n"
     ]
    },
    {
     "data": {
      "text/plain": [
       "(100,)"
      ]
     },
     "execution_count": 2,
     "metadata": {},
     "output_type": "execute_result"
    }
   ],
   "source": [
    "m=100\n",
    "X=np.linspace(0,1,m)\n",
    "print(X)\n",
    "print(type(X))\n",
    "print(X.shape)\n",
    "(X.shape)"
   ]
  },
  {
   "cell_type": "code",
   "execution_count": 3,
   "id": "c6e3b0e3-b1b2-4ffc-afc3-025a8a94314d",
   "metadata": {},
   "outputs": [
    {
     "name": "stdout",
     "output_type": "stream",
     "text": [
      "[1.31181536 0.88963935 1.2297809  1.42578864 1.02911746 1.14994635\n",
      " 0.99027196 0.88372454 1.30080697 1.02858866 1.32508154 1.1388593\n",
      " 1.20356305 1.18488075 1.7314512  1.35972505 1.35109614 1.27448151\n",
      " 1.53404186 1.16647941 1.46013373 1.64071385 1.23129645 1.10835575\n",
      " 1.6880782  1.76432731 1.71165876 1.60066981 1.65337792 1.57985518\n",
      " 1.50503198 1.56036602 1.5464746  1.34451067 1.35451209 1.574252\n",
      " 1.85398513 2.11891517 1.76237628 1.95782427 1.8129764  1.93114196\n",
      " 2.07850775 1.60434878 2.04427984 1.77029291 2.1244705  1.94584538\n",
      " 1.72396433 1.97361739 1.94686215 1.94668462 2.09440519 2.10300941\n",
      " 1.86809034 2.34725591 2.02257236 1.85539468 2.2309934  2.37281636\n",
      " 1.84675609 2.11884183 2.26635884 2.34486486 2.43058238 2.50310733\n",
      " 2.29464805 2.41483353 2.38050494 2.68429318 2.42672821 2.14611307\n",
      " 2.38076178 2.65365669 2.44570489 2.71554    2.7130393  2.57844558\n",
      " 2.39063641 2.85068999 2.69840119 2.66423695 2.48312182 2.89543747\n",
      " 2.66760219 2.83764553 2.85269921 2.43259182 2.61624324 2.74149191\n",
      " 2.75890421 3.15180441 3.04984861 2.67455168 2.88051562 2.47073964\n",
      " 3.17391791 2.90575444 2.74691847 3.27978978]\n"
     ]
    }
   ],
   "source": [
    "t0 = 1\n",
    "t1 = 2\n",
    "y=t0+t1*X+0.2*np.random.randn(m)\n",
    "print(y)"
   ]
  },
  {
   "cell_type": "code",
   "execution_count": 4,
   "id": "0d8a1a9c-b80d-4108-8d0c-8548fe1c9787",
   "metadata": {},
   "outputs": [
    {
     "data": {
      "image/png": "[encoded data removed]",
      "text/plain": [
       "<Figure size 640x480 with 1 Axes>"
      ]
     },
     "metadata": {},
     "output_type": "display_data"
    }
   ],
   "source": [
    "plt.scatter(X,y)\n",
    "plt.xlabel(\"Range of data point\")\n",
    "plt.show()"
   ]
  },
  {
   "cell_type": "code",
   "execution_count": 5,
   "id": "ada79a28-51f5-4e37-8798-e924d0f75a51",
   "metadata": {},
   "outputs": [],
   "source": [
    "from sklearn.linear_model import LinearRegression"
   ]
  },
  {
   "cell_type": "code",
   "execution_count": 6,
   "id": "815daf80-e812-4149-b5d8-1d6dcf2de474",
   "metadata": {},
   "outputs": [
    {
     "data": {
      "text/plain": [
       "abc.ABCMeta"
      ]
     },
     "execution_count": 6,
     "metadata": {},
     "output_type": "execute_result"
    }
   ],
   "source": [
    "type(LinearRegression)"
   ]
  },
  {
   "cell_type": "code",
   "execution_count": 7,
   "id": "f1fcef5b-1694-4a76-a75f-fa4ca91a20eb",
   "metadata": {},
   "outputs": [
    {
     "data": {
      "text/plain": [
       "sklearn.linear_model._base.LinearRegression"
      ]
     },
     "execution_count": 7,
     "metadata": {},
     "output_type": "execute_result"
    }
   ],
   "source": [
    "lin_reg=LinearRegression()\n",
    "type(lin_reg)"
   ]
  },
  {
   "cell_type": "code",
   "execution_count": 8,
   "id": "f0852e65-57ae-4232-950c-8a60eaa26c22",
   "metadata": {},
   "outputs": [
    {
     "name": "stdout",
     "output_type": "stream",
     "text": [
      "[[0.        ]\n",
      " [0.01010101]\n",
      " [0.02020202]\n",
      " [0.03030303]\n",
      " [0.04040404]\n",
      " [0.05050505]\n",
      " [0.06060606]\n",
      " [0.07070707]\n",
      " [0.08080808]\n",
      " [0.09090909]\n",
      " [0.1010101 ]\n",
      " [0.11111111]\n",
      " [0.12121212]\n",
      " [0.13131313]\n",
      " [0.14141414]\n",
      " [0.15151515]\n",
      " [0.16161616]\n",
      " [0.17171717]\n",
      " [0.18181818]\n",
      " [0.19191919]\n",
      " [0.2020202 ]\n",
      " [0.21212121]\n",
      " [0.22222222]\n",
      " [0.23232323]\n",
      " [0.24242424]\n",
      " [0.25252525]\n",
      " [0.26262626]\n",
      " [0.27272727]\n",
      " [0.28282828]\n",
      " [0.29292929]\n",
      " [0.3030303 ]\n",
      " [0.31313131]\n",
      " [0.32323232]\n",
      " [0.33333333]\n",
      " [0.34343434]\n",
      " [0.35353535]\n",
      " [0.36363636]\n",
      " [0.37373737]\n",
      " [0.38383838]\n",
      " [0.39393939]\n",
      " [0.4040404 ]\n",
      " [0.41414141]\n",
      " [0.42424242]\n",
      " [0.43434343]\n",
      " [0.44444444]\n",
      " [0.45454545]\n",
      " [0.46464646]\n",
      " [0.47474747]\n",
      " [0.48484848]\n",
      " [0.49494949]\n",
      " [0.50505051]\n",
      " [0.51515152]\n",
      " [0.52525253]\n",
      " [0.53535354]\n",
      " [0.54545455]\n",
      " [0.55555556]\n",
      " [0.56565657]\n",
      " [0.57575758]\n",
      " [0.58585859]\n",
      " [0.5959596 ]\n",
      " [0.60606061]\n",
      " [0.61616162]\n",
      " [0.62626263]\n",
      " [0.63636364]\n",
      " [0.64646465]\n",
      " [0.65656566]\n",
      " [0.66666667]\n",
      " [0.67676768]\n",
      " [0.68686869]\n",
      " [0.6969697 ]\n",
      " [0.70707071]\n",
      " [0.71717172]\n",
      " [0.72727273]\n",
      " [0.73737374]\n",
      " [0.74747475]\n",
      " [0.75757576]\n",
      " [0.76767677]\n",
      " [0.77777778]\n",
      " [0.78787879]\n",
      " [0.7979798 ]\n",
      " [0.80808081]\n",
      " [0.81818182]\n",
      " [0.82828283]\n",
      " [0.83838384]\n",
      " [0.84848485]\n",
      " [0.85858586]\n",
      " [0.86868687]\n",
      " [0.87878788]\n",
      " [0.88888889]\n",
      " [0.8989899 ]\n",
      " [0.90909091]\n",
      " [0.91919192]\n",
      " [0.92929293]\n",
      " [0.93939394]\n",
      " [0.94949495]\n",
      " [0.95959596]\n",
      " [0.96969697]\n",
      " [0.97979798]\n",
      " [0.98989899]\n",
      " [1.        ]]\n",
      "[1.31181536 0.88963935 1.2297809  1.42578864 1.02911746 1.14994635\n",
      " 0.99027196 0.88372454 1.30080697 1.02858866 1.32508154 1.1388593\n",
      " 1.20356305 1.18488075 1.7314512  1.35972505 1.35109614 1.27448151\n",
      " 1.53404186 1.16647941 1.46013373 1.64071385 1.23129645 1.10835575\n",
      " 1.6880782  1.76432731 1.71165876 1.60066981 1.65337792 1.57985518\n",
      " 1.50503198 1.56036602 1.5464746  1.34451067 1.35451209 1.574252\n",
      " 1.85398513 2.11891517 1.76237628 1.95782427 1.8129764  1.93114196\n",
      " 2.07850775 1.60434878 2.04427984 1.77029291 2.1244705  1.94584538\n",
      " 1.72396433 1.97361739 1.94686215 1.94668462 2.09440519 2.10300941\n",
      " 1.86809034 2.34725591 2.02257236 1.85539468 2.2309934  2.37281636\n",
      " 1.84675609 2.11884183 2.26635884 2.34486486 2.43058238 2.50310733\n",
      " 2.29464805 2.41483353 2.38050494 2.68429318 2.42672821 2.14611307\n",
      " 2.38076178 2.65365669 2.44570489 2.71554    2.7130393  2.57844558\n",
      " 2.39063641 2.85068999 2.69840119 2.66423695 2.48312182 2.89543747\n",
      " 2.66760219 2.83764553 2.85269921 2.43259182 2.61624324 2.74149191\n",
      " 2.75890421 3.15180441 3.04984861 2.67455168 2.88051562 2.47073964\n",
      " 3.17391791 2.90575444 2.74691847 3.27978978]\n"
     ]
    },
    {
     "data": {
      "text/html": [
       "<style>#sk-container-id-1 {color: black;background-color: white;}#sk-container-id-1 pre{padding: 0;}#sk-container-id-1 div.sk-toggleable {background-color: white;}#sk-container-id-1 label.sk-toggleable__label {cursor: pointer;display: block;width: 100%;margin-bottom: 0;padding: 0.3em;box-sizing: border-box;text-align: center;}#sk-container-id-1 label.sk-toggleable__label-arrow:before {content: \"▸\";float: left;margin-right: 0.25em;color: #696969;}#sk-container-id-1 label.sk-toggleable__label-arrow:hover:before {color: black;}#sk-container-id-1 div.sk-estimator:hover label.sk-toggleable__label-arrow:before {color: black;}#sk-container-id-1 div.sk-toggleable__content {max-height: 0;max-width: 0;overflow: hidden;text-align: left;background-color: #f0f8ff;}#sk-container-id-1 div.sk-toggleable__content pre {margin: 0.2em;color: black;border-radius: 0.25em;background-color: #f0f8ff;}#sk-container-id-1 input.sk-toggleable__control:checked~div.sk-toggleable__content {max-height: 200px;max-width: 100%;overflow: auto;}#sk-container-id-1 input.sk-toggleable__control:checked~label.sk-toggleable__label-arrow:before {content: \"▾\";}#sk-container-id-1 div.sk-estimator input.sk-toggleable__control:checked~label.sk-toggleable__label {background-color: #d4ebff;}#sk-container-id-1 div.sk-label input.sk-toggleable__control:checked~label.sk-toggleable__label {background-color: #d4ebff;}#sk-container-id-1 input.sk-hidden--visually {border: 0;clip: rect(1px 1px 1px 1px);clip: rect(1px, 1px, 1px, 1px);height: 1px;margin: -1px;overflow: hidden;padding: 0;position: absolute;width: 1px;}#sk-container-id-1 div.sk-estimator {font-family: monospace;background-color: #f0f8ff;border: 1px dotted black;border-radius: 0.25em;box-sizing: border-box;margin-bottom: 0.5em;}#sk-container-id-1 div.sk-estimator:hover {background-color: #d4ebff;}#sk-container-id-1 div.sk-parallel-item::after {content: \"\";width: 100%;border-bottom: 1px solid gray;flex-grow: 1;}#sk-container-id-1 div.sk-label:hover label.sk-toggleable__label {background-color: #d4ebff;}#sk-container-id-1 div.sk-serial::before {content: \"\";position: absolute;border-left: 1px solid gray;box-sizing: border-box;top: 0;bottom: 0;left: 50%;z-index: 0;}#sk-container-id-1 div.sk-serial {display: flex;flex-direction: column;align-items: center;background-color: white;padding-right: 0.2em;padding-left: 0.2em;position: relative;}#sk-container-id-1 div.sk-item {position: relative;z-index: 1;}#sk-container-id-1 div.sk-parallel {display: flex;align-items: stretch;justify-content: center;background-color: white;position: relative;}#sk-container-id-1 div.sk-item::before, #sk-container-id-1 div.sk-parallel-item::before {content: \"\";position: absolute;border-left: 1px solid gray;box-sizing: border-box;top: 0;bottom: 0;left: 50%;z-index: -1;}#sk-container-id-1 div.sk-parallel-item {display: flex;flex-direction: column;z-index: 1;position: relative;background-color: white;}#sk-container-id-1 div.sk-parallel-item:first-child::after {align-self: flex-end;width: 50%;}#sk-container-id-1 div.sk-parallel-item:last-child::after {align-self: flex-start;width: 50%;}#sk-container-id-1 div.sk-parallel-item:only-child::after {width: 0;}#sk-container-id-1 div.sk-dashed-wrapped {border: 1px dashed gray;margin: 0 0.4em 0.5em 0.4em;box-sizing: border-box;padding-bottom: 0.4em;background-color: white;}#sk-container-id-1 div.sk-label label {font-family: monospace;font-weight: bold;display: inline-block;line-height: 1.2em;}#sk-container-id-1 div.sk-label-container {text-align: center;}#sk-container-id-1 div.sk-container {/* jupyter's `normalize.less` sets `[hidden] { display: none; }` but bootstrap.min.css set `[hidden] { display: none !important; }` so we also need the `!important` here to be able to override the default hidden behavior on the sphinx rendered scikit-learn.org. See: https://github.com/scikit-learn/scikit-learn/issues/21755 */display: inline-block !important;position: relative;}#sk-container-id-1 div.sk-text-repr-fallback {display: none;}</style><div id=\"sk-container-id-1\" class=\"sk-top-container\"><div class=\"sk-text-repr-fallback\"><pre>LinearRegression()</pre><b>In a Jupyter environment, please rerun this cell to show the HTML representation or trust the notebook. <br />On GitHub, the HTML representation is unable to render, please try loading this page with nbviewer.org.</b></div><div class=\"sk-container\" hidden><div class=\"sk-item\"><div class=\"sk-estimator sk-toggleable\"><input class=\"sk-toggleable__control sk-hidden--visually\" id=\"sk-estimator-id-1\" type=\"checkbox\" checked><label for=\"sk-estimator-id-1\" class=\"sk-toggleable__label sk-toggleable__label-arrow\">LinearRegression</label><div class=\"sk-toggleable__content\"><pre>LinearRegression()</pre></div></div></div></div></div>"
      ],
      "text/plain": [
       "LinearRegression()"
      ]
     },
     "execution_count": 8,
     "metadata": {},
     "output_type": "execute_result"
    }
   ],
   "source": [
    "X=X.reshape(-1,1)\n",
    "# y=y.reshape(-1,1)\n",
    "print(X)\n",
    "print(y)\n",
    "lin_reg.fit(X,y)"
   ]
  },
  {
   "cell_type": "code",
   "execution_count": 9,
   "id": "3cfd3d48-1e0e-4c5b-9b8b-c6db0bd3ed58",
   "metadata": {},
   "outputs": [
    {
     "data": {
      "text/plain": [
       "array([1.96698014])"
      ]
     },
     "execution_count": 9,
     "metadata": {},
     "output_type": "execute_result"
    }
   ],
   "source": [
    "lin_reg.coef_"
   ]
  },
  {
   "cell_type": "code",
   "execution_count": 10,
   "id": "745ecf2d-0d95-46b2-bde3-85e246bd3f3a",
   "metadata": {},
   "outputs": [
    {
     "data": {
      "text/plain": [
       "1.0254270116456916"
      ]
     },
     "execution_count": 10,
     "metadata": {},
     "output_type": "execute_result"
    }
   ],
   "source": [
    "lin_reg.intercept_"
   ]
  },
  {
   "cell_type": "code",
   "execution_count": 11,
   "id": "49b5371c-2635-4f50-a926-2c6e7981f7aa",
   "metadata": {},
   "outputs": [
    {
     "data": {
      "text/plain": [
       "0.9045233498623025"
      ]
     },
     "execution_count": 11,
     "metadata": {},
     "output_type": "execute_result"
    }
   ],
   "source": [
    "lin_reg.score(X,y)"
   ]
  },
  {
   "cell_type": "code",
   "execution_count": 12,
   "id": "43e84184-b828-402b-b4d5-296da78c063e",
   "metadata": {},
   "outputs": [
    {
     "name": "stdout",
     "output_type": "stream",
     "text": [
      "[1.02542701 1.0452955  1.06516398 1.08503247 1.10490096 1.12476944\n",
      " 1.14463793 1.16450642 1.1843749  1.20424339 1.22411187 1.24398036\n",
      " 1.26384885 1.28371733 1.30358582 1.3234543  1.34332279 1.36319128\n",
      " 1.38305976 1.40292825 1.42279674 1.44266522 1.46253371 1.48240219\n",
      " 1.50227068 1.52213917 1.54200765 1.56187614 1.58174463 1.60161311\n",
      " 1.6214816  1.64135008 1.66121857 1.68108706 1.70095554 1.72082403\n",
      " 1.74069252 1.760561   1.78042949 1.80029797 1.82016646 1.84003495\n",
      " 1.85990343 1.87977192 1.89964041 1.91950889 1.93937738 1.95924586\n",
      " 1.97911435 1.99898284 2.01885132 2.03871981 2.05858829 2.07845678\n",
      " 2.09832527 2.11819375 2.13806224 2.15793073 2.17779921 2.1976677\n",
      " 2.21753618 2.23740467 2.25727316 2.27714164 2.29701013 2.31687862\n",
      " 2.3367471  2.35661559 2.37648407 2.39635256 2.41622105 2.43608953\n",
      " 2.45595802 2.47582651 2.49569499 2.51556348 2.53543196 2.55530045\n",
      " 2.57516894 2.59503742 2.61490591 2.63477439 2.65464288 2.67451137\n",
      " 2.69437985 2.71424834 2.73411683 2.75398531 2.7738538  2.79372228\n",
      " 2.81359077 2.83345926 2.85332774 2.87319623 2.89306472 2.9129332\n",
      " 2.93280169 2.95267017 2.97253866 2.99240715]\n"
     ]
    }
   ],
   "source": [
    "y_pred=lin_reg.predict(X)\n",
    "print(y_pred)"
   ]
  },
  {
   "cell_type": "code",
   "execution_count": 14,
   "id": "d3d27632-851f-4700-94d4-b97ae05adb7e",
   "metadata": {},
   "outputs": [
    {
     "data": {
      "text/plain": [
       "[<matplotlib.lines.Line2D at 0x1c27cdf2750>]"
      ]
     },
     "execution_count": 14,
     "metadata": {},
     "output_type": "execute_result"
    },
    {
     "data": {
      "image/png": "[encoded data removed]",
      "text/plain": [
       "<Figure size 640x480 with 1 Axes>"
      ]
     },
     "metadata": {},
     "output_type": "display_data"
    }
   ],
   "source": [
    "plt.scatter(X,y,marker=\"*\",c=\"y\")\n",
    "# plt.scatter(X,y_pred,marker=\"+\",c=\"g\")\n",
    "plt.plot(X,y_pred,'r')"
   ]
  },
  {
   "cell_type": "code",
   "execution_count": 15,
   "id": "f838e6fa-89e7-457d-8d54-41ee7f2304ab",
   "metadata": {},
   "outputs": [
    {
     "data": {
      "text/plain": [
       "<matplotlib.collections.PathCollection at 0x1c27f3381d0>"
      ]
     },
     "execution_count": 15,
     "metadata": {},
     "output_type": "execute_result"
    },
    {
     "data": {
      "image/png": "[encoded data removed]",
      "text/plain": [
       "<Figure size 640x480 with 1 Axes>"
      ]
     },
     "metadata": {},
     "output_type": "display_data"
    }
   ],
   "source": [
    "error=y-y_pred\n",
    "plt.scatter(y_pred,error)"
   ]
  },
  {
   "cell_type": "code",
   "execution_count": null,
   "id": "130e57bb-aac5-4f35-be16-22b702a52702",
   "metadata": {},
   "outputs": [],
   "source": []
  }
 ],
 "metadata": {
  "kernelspec": {
   "display_name": "Python 3 (ipykernel)",
   "language": "python",
   "name": "python3"
  },
  "language_info": {
   "codemirror_mode": {
    "name": "ipython",
    "version": 3
   },
   "file_extension": ".py",
   "mimetype": "text/x-python",
   "name": "python",
   "nbconvert_exporter": "python",
   "pygments_lexer": "ipython3",
   "version": "3.11.7"
  }
 },
 "nbformat": 4,
 "nbformat_minor": 5
}
