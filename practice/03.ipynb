{
 "cells": [
  {
   "cell_type": "code",
   "execution_count": 25,
   "id": "440edb15",
   "metadata": {},
   "outputs": [],
   "source": [
    "import numpy as np\n",
    "import matplotlib.pyplot as plt\n",
    "from sklearn.datasets import load_breast_cancer"
   ]
  },
  {
   "cell_type": "code",
   "execution_count": 26,
   "id": "4289e205",
   "metadata": {},
   "outputs": [
    {
     "name": "stdout",
     "output_type": "stream",
     "text": [
      "[[1.799e+01 1.038e+01 1.228e+02 ... 2.654e-01 4.601e-01 1.189e-01]\n",
      " [2.057e+01 1.777e+01 1.329e+02 ... 1.860e-01 2.750e-01 8.902e-02]\n",
      " [1.969e+01 2.125e+01 1.300e+02 ... 2.430e-01 3.613e-01 8.758e-02]\n",
      " ...\n",
      " [1.660e+01 2.808e+01 1.083e+02 ... 1.418e-01 2.218e-01 7.820e-02]\n",
      " [2.060e+01 2.933e+01 1.401e+02 ... 2.650e-01 4.087e-01 1.240e-01]\n",
      " [7.760e+00 2.454e+01 4.792e+01 ... 0.000e+00 2.871e-01 7.039e-02]]\n",
      "[0 0 0 0 0 0 0 0 0 0 0 0 0 0 0 0 0 0 0 1 1 1 0 0 0 0 0 0 0 0 0 0 0 0 0 0 0\n",
      " 1 0 0 0 0 0 0 0 0 1 0 1 1 1 1 1 0 0 1 0 0 1 1 1 1 0 1 0 0 1 1 1 1 0 1 0 0\n",
      " 1 0 1 0 0 1 1 1 0 0 1 0 0 0 1 1 1 0 1 1 0 0 1 1 1 0 0 1 1 1 1 0 1 1 0 1 1\n",
      " 1 1 1 1 1 1 0 0 0 1 0 0 1 1 1 0 0 1 0 1 0 0 1 0 0 1 1 0 1 1 0 1 1 1 1 0 1\n",
      " 1 1 1 1 1 1 1 1 0 1 1 1 1 0 0 1 0 1 1 0 0 1 1 0 0 1 1 1 1 0 1 1 0 0 0 1 0\n",
      " 1 0 1 1 1 0 1 1 0 0 1 0 0 0 0 1 0 0 0 1 0 1 0 1 1 0 1 0 0 0 0 1 1 0 0 1 1\n",
      " 1 0 1 1 1 1 1 0 0 1 1 0 1 1 0 0 1 0 1 1 1 1 0 1 1 1 1 1 0 1 0 0 0 0 0 0 0\n",
      " 0 0 0 0 0 0 0 1 1 1 1 1 1 0 1 0 1 1 0 1 1 0 1 0 0 1 1 1 1 1 1 1 1 1 1 1 1\n",
      " 1 0 1 1 0 1 0 1 1 1 1 1 1 1 1 1 1 1 1 1 1 0 1 1 1 0 1 0 1 1 1 1 0 0 0 1 1\n",
      " 1 1 0 1 0 1 0 1 1 1 0 1 1 1 1 1 1 1 0 0 0 1 1 1 1 1 1 1 1 1 1 1 0 0 1 0 0\n",
      " 0 1 0 0 1 1 1 1 1 0 1 1 1 1 1 0 1 1 1 0 1 1 0 0 1 1 1 1 1 1 0 1 1 1 1 1 1\n",
      " 1 0 1 1 1 1 1 0 1 1 0 1 1 1 1 1 1 1 1 1 1 1 1 0 1 0 0 1 0 1 1 1 1 1 0 1 1\n",
      " 0 1 0 1 1 0 1 0 1 1 1 1 1 1 1 1 0 0 1 1 1 1 1 1 0 1 1 1 1 1 1 1 1 1 1 0 1\n",
      " 1 1 1 1 1 1 0 1 0 1 1 0 1 1 1 1 1 0 0 1 0 1 0 1 1 1 1 1 0 1 1 0 1 0 1 0 0\n",
      " 1 1 1 0 1 1 1 1 1 1 1 1 1 1 1 0 1 0 0 1 1 1 1 1 1 1 1 1 1 1 1 1 1 1 1 1 1\n",
      " 1 1 1 1 1 1 1 0 0 0 0 0 0 1]\n"
     ]
    }
   ],
   "source": [
    "breast = load_breast_cancer()\n",
    "dir(breast)\n",
    "data=breast.data\n",
    "print(data)\n",
    "target=breast.target\n",
    "print(target)"
   ]
  },
  {
   "cell_type": "code",
   "execution_count": 27,
   "id": "a401f44e",
   "metadata": {},
   "outputs": [],
   "source": [
    "from sklearn.preprocessing import add_dummy_feature\n",
    "from sklearn.linear_model import LinearRegression,LogisticRegression\n",
    "from sklearn.metrics import mean_squared_error,accuracy_score,confusion_matrix,classification_report\n",
    "from sklearn.model_selection import train_test_split"
   ]
  },
  {
   "cell_type": "code",
   "execution_count": 28,
   "id": "56f676a9",
   "metadata": {},
   "outputs": [],
   "source": [
    "x_train,x_test,y_train,y_test=train_test_split(data,target,test_size=0.2,random_state=42)"
   ]
  },
  {
   "cell_type": "code",
   "execution_count": 29,
   "id": "3f387c41",
   "metadata": {},
   "outputs": [],
   "source": [
    "log_reg=LogisticRegression(max_iter=10000)\n",
    "log_reg.fit(x_train,y_train)\n",
    "y_pred=log_reg.predict(x_test)"
   ]
  },
  {
   "cell_type": "code",
   "execution_count": 30,
   "id": "03789e21",
   "metadata": {},
   "outputs": [
    {
     "name": "stdout",
     "output_type": "stream",
     "text": [
      "0.956140350877193\n"
     ]
    }
   ],
   "source": [
    "print(accuracy_score(y_test,y_pred))"
   ]
  },
  {
   "cell_type": "code",
   "execution_count": 31,
   "id": "7a523da8",
   "metadata": {},
   "outputs": [
    {
     "data": {
      "text/plain": [
       "array([[39,  4],\n",
       "       [ 1, 70]])"
      ]
     },
     "execution_count": 31,
     "metadata": {},
     "output_type": "execute_result"
    }
   ],
   "source": [
    "confusion_matrix(y_test,y_pred)"
   ]
  },
  {
   "cell_type": "code",
   "execution_count": 32,
   "id": "96b8d55e",
   "metadata": {},
   "outputs": [
    {
     "data": {
      "text/plain": [
       "'              precision    recall  f1-score   support\\n\\n           0       0.97      0.91      0.94        43\\n           1       0.95      0.99      0.97        71\\n\\n    accuracy                           0.96       114\\n   macro avg       0.96      0.95      0.95       114\\nweighted avg       0.96      0.96      0.96       114\\n'"
      ]
     },
     "execution_count": 32,
     "metadata": {},
     "output_type": "execute_result"
    }
   ],
   "source": [
    "classification_report(y_test,y_pred)"
   ]
  },
  {
   "cell_type": "code",
   "execution_count": 35,
   "id": "62a4bfc5",
   "metadata": {},
   "outputs": [
    {
     "name": "stdout",
     "output_type": "stream",
     "text": [
      "[ 0.62168355  0.17803853  0.27512068  1.1320503   1.11698318 -0.66303713\n",
      " -0.07355607  0.44212355  0.28085763  0.96360261  0.794142    0.33192584\n",
      "  0.90481757  0.39666504  0.9336697   0.17750175  0.91013271  1.19445658\n",
      "  1.41615414  0.04464718  0.65041677  0.8752756  -0.38792384  1.08061015\n",
      "  0.96215276  0.84678947  0.99807141  0.87049439  0.94386257 -0.16893149\n",
      "  1.0238613   1.04190872  0.81604445  0.9156589   1.07186427  0.84289045\n",
      "  0.48746626  0.62375262  0.25368547  0.76842229  1.15259719  0.03799193\n",
      "  0.97126513  0.99773732  0.55160057  0.65587474  0.91828081  1.02580964\n",
      "  0.80527854  1.01543748  0.20974453 -0.07875586  0.55842968  0.59037896\n",
      "  1.02323689  0.78572959  0.93959678 -0.36416183  0.55847881  1.04937824\n",
      "  0.94406266 -0.1953921  -0.35465216  0.80776979  0.90208492  0.58309865\n",
      " -0.16982229 -0.15422403  0.97877451  0.83434684  0.09123074  0.09531931\n",
      "  0.8486583   0.25871356  0.9949576   0.83561759  0.80204781  0.58575204\n",
      "  1.17901275  0.75766173  0.40996133  1.05654014  0.53031006 -0.13159216\n",
      "  0.3191878   0.14061625 -0.36596822  0.03857742  0.98036084  0.94278356\n",
      "  0.82407548  0.79194847  0.80018521  1.10421683  0.98984354  0.9565251\n",
      " -0.00308431 -0.19926989  1.03364721  0.13044771  0.24557297  1.27709941\n",
      "  0.21094783  0.15733386  0.76399441  0.74121238  0.80363351 -0.10971523\n",
      "  0.708626    0.74741164  0.16156221  0.96791348  0.56621261  0.13303589]\n"
     ]
    },
    {
     "data": {
      "text/plain": [
       "0.06410886247029474"
      ]
     },
     "execution_count": 35,
     "metadata": {},
     "output_type": "execute_result"
    }
   ],
   "source": [
    "x=data\n",
    "y=target\n",
    "x_reg=x[:,[0]]\n",
    "y_reg=x[:,2]\n",
    "\n",
    "lin_reg=LinearRegression()\n",
    "\n",
    "x_train_reg,x_test_red,y_train_reg,y_test_reg=train_test_split(x,y,test_size=0.2,random_state=42)\n",
    "\n",
    "lin_reg.fit(x_train_reg,y_train_reg)\n",
    "y_pred_reg=lin_reg.predict(x_test_red)\n",
    "\n",
    "print(y_pred_reg)\n",
    "\n",
    "mean_squared_error(y_test_reg,y_pred_reg)\n"
   ]
  },
  {
   "cell_type": "code",
   "execution_count": null,
   "id": "90cb02cf",
   "metadata": {},
   "outputs": [],
   "source": []
  }
 ],
 "metadata": {
  "kernelspec": {
   "display_name": ".venv",
   "language": "python",
   "name": "python3"
  },
  "language_info": {
   "codemirror_mode": {
    "name": "ipython",
    "version": 3
   },
   "file_extension": ".py",
   "mimetype": "text/x-python",
   "name": "python",
   "nbconvert_exporter": "python",
   "pygments_lexer": "ipython3",
   "version": "3.13.0"
  }
 },
 "nbformat": 4,
 "nbformat_minor": 5
}
